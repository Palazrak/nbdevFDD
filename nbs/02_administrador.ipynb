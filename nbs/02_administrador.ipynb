{
 "cells": [
  {
   "cell_type": "markdown",
   "metadata": {},
   "source": [
    "# Administrador\n",
    "\n",
    "> Lista de tareas para manejar tus pendientes"
   ]
  },
  {
   "cell_type": "code",
   "execution_count": null,
   "metadata": {},
   "outputs": [],
   "source": [
    "#| default_exp administrador"
   ]
  },
  {
   "cell_type": "code",
   "execution_count": null,
   "metadata": {},
   "outputs": [],
   "source": [
    "#| hide\n",
    "from nbdev.showdoc import *\n",
    "from nbdevFDD.tarea import *\n",
    "from datetime import datetime"
   ]
  },
  {
   "cell_type": "code",
   "execution_count": null,
   "metadata": {},
   "outputs": [],
   "source": [
    "#| export\n",
    "class Administrador:\n",
    "    \"El administrador se inicializa con una lista vacía que se llenará manualmente con tareas\"\n",
    "    def __init__(self) -> None:\n",
    "        self.lista_tareas = []\n",
    "    \n",
    "    def agrega_tarea (self,\n",
    "                      titulo:str, #Título de la tarea\n",
    "                      fecha_entrega:str, #Fecha de entrega en formato dd/mm/aaaa. De no estar en este formato, el método no funcionará\n",
    "                      descripcion:str='' #Información adicional sobre la tarea\n",
    "                      ) -> bool: #Regresa True si la tarea se agregó exitosamente, False en caso contrario\n",
    "        \"Crea un objeto tipo Tarea, lo agrega a la lista interna y ordena con base en la fecha de entrega\"\n",
    "        tarea = Tarea(titulo=titulo, fecha_entrega=fecha_entrega, descripcion=descripcion)\n",
    "        self.lista_tareas.append(tarea)\n",
    "        self.lista_tareas = sorted(self.lista_tareas, key=lambda x: datetime.strptime(x.fecha_entrega, \"%d/%m/%Y\"))\n",
    "        \n",
    "    def imprime_completo (self) -> str:\n",
    "        \"Imprime todas las tareas contenidas en la lista, tanto las completadas como las faltantes\"\n",
    "        for tarea in self.lista_tareas:\n",
    "            print(tarea)\n",
    "    \n",
    "    def imprime_faltantes(self) ->str:\n",
    "        \"Imprime las tareas en la lista que su atributo 'completado' esté en False\"\n",
    "        for tarea in self.lista_tareas:\n",
    "            if tarea.completado == False:\n",
    "                print(tarea)\n",
    "    \n",
    "    __repr__ = imprime_completo\n",
    "    \n",
    "    def tarea_completada(self,\n",
    "                         titulo:str # Título de la tarea que se busca\n",
    "                         ) -> bool: # Regresa True si la tarea estaa en la lista y la marcó como completada\n",
    "        \"Busca una tarea por su nombre y cambia su atributo 'completado' a True\"\n",
    "        for tarea in self.lista_tareas:\n",
    "            if tarea.titulo == titulo:\n",
    "                tarea.completado = True\n",
    "                return True\n",
    "        return False"
   ]
  },
  {
   "cell_type": "code",
   "execution_count": null,
   "metadata": {},
   "outputs": [
    {
     "data": {
      "text/markdown": [
       "---\n",
       "\n",
       "### Administrador\n",
       "\n",
       ">      Administrador ()\n",
       "\n",
       "El administrador se inicializa con una lista vacía que se llenará manualmente con tareas"
      ],
      "text/plain": [
       "---\n",
       "\n",
       "### Administrador\n",
       "\n",
       ">      Administrador ()\n",
       "\n",
       "El administrador se inicializa con una lista vacía que se llenará manualmente con tareas"
      ]
     },
     "execution_count": null,
     "metadata": {},
     "output_type": "execute_result"
    }
   ],
   "source": [
    "show_doc(Administrador)"
   ]
  },
  {
   "cell_type": "code",
   "execution_count": null,
   "metadata": {},
   "outputs": [
    {
     "data": {
      "text/markdown": [
       "---\n",
       "\n",
       "### Administrador.agrega_tarea\n",
       "\n",
       ">      Administrador.agrega_tarea (titulo:str, fecha_entrega:str,\n",
       ">                                  descripcion:str='')\n",
       "\n",
       "Crea un objeto tipo Tarea, lo agrega a la lista interna y ordena con base en la fecha de entrega\n",
       "\n",
       "|    | **Type** | **Default** | **Details** |\n",
       "| -- | -------- | ----------- | ----------- |\n",
       "| titulo | str |  | Título de la tarea |\n",
       "| fecha_entrega | str |  | Fecha de entrega en formato dd/mm/aaaa. De no estar en este formato, el método no funcionará |\n",
       "| descripcion | str |  | Información adicional sobre la tarea |\n",
       "| **Returns** | **bool** |  | **Regresa True si la tarea se agregó exitosamente, False en caso contrario** |"
      ],
      "text/plain": [
       "---\n",
       "\n",
       "### Administrador.agrega_tarea\n",
       "\n",
       ">      Administrador.agrega_tarea (titulo:str, fecha_entrega:str,\n",
       ">                                  descripcion:str='')\n",
       "\n",
       "Crea un objeto tipo Tarea, lo agrega a la lista interna y ordena con base en la fecha de entrega\n",
       "\n",
       "|    | **Type** | **Default** | **Details** |\n",
       "| -- | -------- | ----------- | ----------- |\n",
       "| titulo | str |  | Título de la tarea |\n",
       "| fecha_entrega | str |  | Fecha de entrega en formato dd/mm/aaaa. De no estar en este formato, el método no funcionará |\n",
       "| descripcion | str |  | Información adicional sobre la tarea |\n",
       "| **Returns** | **bool** |  | **Regresa True si la tarea se agregó exitosamente, False en caso contrario** |"
      ]
     },
     "execution_count": null,
     "metadata": {},
     "output_type": "execute_result"
    }
   ],
   "source": [
    "show_doc(Administrador.agrega_tarea)"
   ]
  },
  {
   "cell_type": "code",
   "execution_count": null,
   "metadata": {},
   "outputs": [
    {
     "data": {
      "text/markdown": [
       "---\n",
       "\n",
       "### Administrador.imprime_completo\n",
       "\n",
       ">      Administrador.imprime_completo ()\n",
       "\n",
       "Imprime todas las tareas contenidas en la lista, tanto las completadas como las faltantes"
      ],
      "text/plain": [
       "---\n",
       "\n",
       "### Administrador.imprime_completo\n",
       "\n",
       ">      Administrador.imprime_completo ()\n",
       "\n",
       "Imprime todas las tareas contenidas en la lista, tanto las completadas como las faltantes"
      ]
     },
     "execution_count": null,
     "metadata": {},
     "output_type": "execute_result"
    }
   ],
   "source": [
    "show_doc(Administrador.imprime_completo)"
   ]
  },
  {
   "cell_type": "code",
   "execution_count": null,
   "metadata": {},
   "outputs": [
    {
     "data": {
      "text/markdown": [
       "---\n",
       "\n",
       "### Administrador.imprime_faltantes\n",
       "\n",
       ">      Administrador.imprime_faltantes ()\n",
       "\n",
       "Imprime las tareas en la lista que su atributo 'completado' esté en False"
      ],
      "text/plain": [
       "---\n",
       "\n",
       "### Administrador.imprime_faltantes\n",
       "\n",
       ">      Administrador.imprime_faltantes ()\n",
       "\n",
       "Imprime las tareas en la lista que su atributo 'completado' esté en False"
      ]
     },
     "execution_count": null,
     "metadata": {},
     "output_type": "execute_result"
    }
   ],
   "source": [
    "show_doc(Administrador.imprime_faltantes)"
   ]
  },
  {
   "cell_type": "code",
   "execution_count": null,
   "metadata": {},
   "outputs": [
    {
     "data": {
      "text/markdown": [
       "---\n",
       "\n",
       "### Administrador.tarea_completada\n",
       "\n",
       ">      Administrador.tarea_completada (titulo:str)\n",
       "\n",
       "Busca una tarea por su nombre y cambia su atributo 'completado' a True\n",
       "\n",
       "|    | **Type** | **Details** |\n",
       "| -- | -------- | ----------- |\n",
       "| titulo | str | Título de la tarea que se busca |\n",
       "| **Returns** | **bool** | **Regresa True si la tarea estaa en la lista y la marcó como completada** |"
      ],
      "text/plain": [
       "---\n",
       "\n",
       "### Administrador.tarea_completada\n",
       "\n",
       ">      Administrador.tarea_completada (titulo:str)\n",
       "\n",
       "Busca una tarea por su nombre y cambia su atributo 'completado' a True\n",
       "\n",
       "|    | **Type** | **Details** |\n",
       "| -- | -------- | ----------- |\n",
       "| titulo | str | Título de la tarea que se busca |\n",
       "| **Returns** | **bool** | **Regresa True si la tarea estaa en la lista y la marcó como completada** |"
      ]
     },
     "execution_count": null,
     "metadata": {},
     "output_type": "execute_result"
    }
   ],
   "source": [
    "show_doc(Administrador.tarea_completada)"
   ]
  },
  {
   "cell_type": "markdown",
   "metadata": {},
   "source": [
    "## Pruebas de la clase Administrador"
   ]
  },
  {
   "cell_type": "markdown",
   "metadata": {},
   "source": [
    "Para crear un administrador de tareas:"
   ]
  },
  {
   "cell_type": "code",
   "execution_count": null,
   "metadata": {},
   "outputs": [],
   "source": [
    "administrador = Administrador()"
   ]
  },
  {
   "cell_type": "markdown",
   "metadata": {},
   "source": [
    "Ahora, agreguemos algunas tareas:"
   ]
  },
  {
   "cell_type": "code",
   "execution_count": null,
   "metadata": {},
   "outputs": [],
   "source": [
    "administrador.agrega_tarea(titulo=\"Presentación FDD\", fecha_entrega=\"25/11/2023\", descripcion=\"Presentación con código del proyecto\")\n",
    "administrador.agrega_tarea(titulo=\"GitHub Pages\", fecha_entrega=\"14/12/2023\", descripcion=\"Presentación de nuestro GitHub Pages para el final\")\n",
    "administrador.agrega_tarea(titulo=\"Tareas de proyectos\", fecha_entrega=\"09/12/2023\", descripcion=\"Entrega de tareas a los equipos\")"
   ]
  },
  {
   "cell_type": "markdown",
   "metadata": {},
   "source": [
    "Imprimimos la lista para ver los elementos:"
   ]
  },
  {
   "cell_type": "code",
   "execution_count": null,
   "metadata": {},
   "outputs": [
    {
     "name": "stdout",
     "output_type": "stream",
     "text": [
      "Tarea: Presentación FDD. \n",
      "Descripcion: Presentación con código del proyecto. \n",
      "Fecha de entrega: 25/11/2023. \n",
      "Completada: False\n",
      "Tarea: Tareas de proyectos. \n",
      "Descripcion: Entrega de tareas a los equipos. \n",
      "Fecha de entrega: 09/12/2023. \n",
      "Completada: False\n",
      "Tarea: GitHub Pages. \n",
      "Descripcion: Presentación de nuestro GitHub Pages para el final. \n",
      "Fecha de entrega: 14/12/2023. \n",
      "Completada: False\n"
     ]
    }
   ],
   "source": [
    "administrador.imprime_completo()"
   ]
  },
  {
   "cell_type": "markdown",
   "metadata": {},
   "source": [
    "Ahora, marquemos una tarea como completada:"
   ]
  },
  {
   "cell_type": "code",
   "execution_count": null,
   "metadata": {},
   "outputs": [
    {
     "data": {
      "text/plain": [
       "True"
      ]
     },
     "execution_count": null,
     "metadata": {},
     "output_type": "execute_result"
    }
   ],
   "source": [
    "administrador.tarea_completada(\"Presentación FDD\")"
   ]
  },
  {
   "cell_type": "markdown",
   "metadata": {},
   "source": [
    "Probemos imprimir tanto la lista completa como la lista de faltantes:"
   ]
  },
  {
   "cell_type": "code",
   "execution_count": null,
   "metadata": {},
   "outputs": [
    {
     "name": "stdout",
     "output_type": "stream",
     "text": [
      "Tarea: Presentación FDD. \n",
      "Descripcion: Presentación con código del proyecto. \n",
      "Fecha de entrega: 25/11/2023. \n",
      "Completada: True\n",
      "Tarea: Tareas de proyectos. \n",
      "Descripcion: Entrega de tareas a los equipos. \n",
      "Fecha de entrega: 09/12/2023. \n",
      "Completada: False\n",
      "Tarea: GitHub Pages. \n",
      "Descripcion: Presentación de nuestro GitHub Pages para el final. \n",
      "Fecha de entrega: 14/12/2023. \n",
      "Completada: False\n"
     ]
    }
   ],
   "source": [
    "administrador.imprime_completo()"
   ]
  },
  {
   "cell_type": "code",
   "execution_count": null,
   "metadata": {},
   "outputs": [
    {
     "name": "stdout",
     "output_type": "stream",
     "text": [
      "Tarea: Tareas de proyectos. \n",
      "Descripcion: Entrega de tareas a los equipos. \n",
      "Fecha de entrega: 09/12/2023. \n",
      "Completada: False\n",
      "Tarea: GitHub Pages. \n",
      "Descripcion: Presentación de nuestro GitHub Pages para el final. \n",
      "Fecha de entrega: 14/12/2023. \n",
      "Completada: False\n"
     ]
    }
   ],
   "source": [
    "administrador.imprime_faltantes()"
   ]
  },
  {
   "cell_type": "markdown",
   "metadata": {},
   "source": [
    "Ahora, probemos marcar como completado una tarea que no existe:"
   ]
  },
  {
   "cell_type": "code",
   "execution_count": null,
   "metadata": {},
   "outputs": [
    {
     "data": {
      "text/plain": [
       "False"
      ]
     },
     "execution_count": null,
     "metadata": {},
     "output_type": "execute_result"
    }
   ],
   "source": [
    "administrador.tarea_completada(\"prueba\")"
   ]
  },
  {
   "cell_type": "code",
   "execution_count": null,
   "metadata": {},
   "outputs": [],
   "source": [
    "#| hide\n",
    "import nbdev; nbdev.nbdev_export()"
   ]
  }
 ],
 "metadata": {
  "kernelspec": {
   "display_name": "python3",
   "language": "python",
   "name": "python3"
  }
 },
 "nbformat": 4,
 "nbformat_minor": 4
}
